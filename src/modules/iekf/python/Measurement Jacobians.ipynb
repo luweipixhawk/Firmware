{
 "cells": [
  {
   "cell_type": "code",
   "execution_count": 1,
   "metadata": {
    "collapsed": true
   },
   "outputs": [],
   "source": [
    "import sympy\n",
    "import sympy.physics.mechanics as mech\n",
    "sympy.init_printing()"
   ]
  },
  {
   "cell_type": "code",
   "execution_count": 17,
   "metadata": {
    "collapsed": true
   },
   "outputs": [],
   "source": [
    "phi, theta, psi, rot_x, rot_y, rot_z, v_N, v_E, v_D, gyro_bias_N, gyro_bias_E, gyro_bias_D, \\\n",
    "pos_N, pos_E, asl, terrain_asl, baro_bias, w_N, w_E, w_D, d, agl= \\\n",
    "    sympy.symbols('phi, theta, psi, rot_x, rot_y, rot_z, v_N, v_E, v_D, gyro_bias_N, gyro_bias_E, gyro_bias_D,'\n",
    "                   'pos_N, pos_E, asl, terrain_asl, baro_bias, w_N, w_E, w_D, d, agl')    \n",
    "\n",
    "frame_n = mech.ReferenceFrame('n')\n",
    "frame_r = frame_n.orientnew('r', 'Quaternion', (1, rot_x, rot_y, rot_z))\n",
    "#frame_b = frame_r.orientnew('b', 'Quaternion', (q_0, q_1, q_2, q_3))\n",
    "# easier to see where we get divide by zeros if we express dcm in euler angles\n",
    "frame_b = frame_r.orientnew('b', 'Body', (psi, theta, phi), '321')\n",
    "C_rb = frame_b.dcm(frame_r)\n",
    "sub_C_rb = {}\n",
    "for i in range(3):\n",
    "    for j in range(3):\n",
    "        sub_C_rb[C_rb[i, j]] = sympy.Symbol('C_rb({:d}, {:d})'.format(i, j))\n",
    "        sub_C_rb[-C_rb[i, j]] = -sympy.Symbol('C_rb({:d}, {:d})'.format(i, j))\n",
    "sub_C_rb\n",
    "sub_lin = {\n",
    "    rot_x: 0,\n",
    "    rot_y: 0,\n",
    "    rot_z: 0,\n",
    "}\n",
    "sub_agl = {\n",
    "    asl - terrain_asl: agl\n",
    "}"
   ]
  },
  {
   "cell_type": "code",
   "execution_count": 3,
   "metadata": {
    "collapsed": false
   },
   "outputs": [
    {
     "data": {
      "image/png": "[encoded data removed]",
      "text/latex": [
       "$$\\left \\{ - \\sin{\\left (\\phi \\right )} \\cos{\\left (\\theta \\right )} : - C_{rb(1, 2)}, \\quad \\sin{\\left (\\phi \\right )} \\cos{\\left (\\theta \\right )} : C_{rb(1, 2)}, \\quad - \\sin{\\left (\\psi \\right )} \\cos{\\left (\\theta \\right )} : - C_{rb(0, 1)}, \\quad \\sin{\\left (\\psi \\right )} \\cos{\\left (\\theta \\right )} : C_{rb(0, 1)}, \\quad - \\cos{\\left (\\phi \\right )} \\cos{\\left (\\theta \\right )} : - C_{rb(2, 2)}, \\quad \\cos{\\left (\\phi \\right )} \\cos{\\left (\\theta \\right )} : C_{rb(2, 2)}, \\quad - \\cos{\\left (\\psi \\right )} \\cos{\\left (\\theta \\right )} : - C_{rb(0, 0)}, \\quad \\cos{\\left (\\psi \\right )} \\cos{\\left (\\theta \\right )} : C_{rb(0, 0)}, \\quad - \\sin{\\left (\\phi \\right )} \\sin{\\left (\\psi \\right )} - \\sin{\\left (\\theta \\right )} \\cos{\\left (\\phi \\right )} \\cos{\\left (\\psi \\right )} : - C_{rb(2, 0)}, \\quad \\sin{\\left (\\phi \\right )} \\sin{\\left (\\psi \\right )} + \\sin{\\left (\\theta \\right )} \\cos{\\left (\\phi \\right )} \\cos{\\left (\\psi \\right )} : C_{rb(2, 0)}, \\quad - \\sin{\\left (\\phi \\right )} \\cos{\\left (\\psi \\right )} + \\sin{\\left (\\psi \\right )} \\sin{\\left (\\theta \\right )} \\cos{\\left (\\phi \\right )} : C_{rb(2, 1)}, \\quad \\sin{\\left (\\phi \\right )} \\cos{\\left (\\psi \\right )} - \\sin{\\left (\\psi \\right )} \\sin{\\left (\\theta \\right )} \\cos{\\left (\\phi \\right )} : - C_{rb(2, 1)}, \\quad - \\sin{\\left (\\phi \\right )} \\sin{\\left (\\psi \\right )} \\sin{\\left (\\theta \\right )} - \\cos{\\left (\\phi \\right )} \\cos{\\left (\\psi \\right )} : - C_{rb(1, 1)}, \\quad \\sin{\\left (\\phi \\right )} \\sin{\\left (\\psi \\right )} \\sin{\\left (\\theta \\right )} + \\cos{\\left (\\phi \\right )} \\cos{\\left (\\psi \\right )} : C_{rb(1, 1)}, \\quad - \\sin{\\left (\\phi \\right )} \\sin{\\left (\\theta \\right )} \\cos{\\left (\\psi \\right )} + \\sin{\\left (\\psi \\right )} \\cos{\\left (\\phi \\right )} : - C_{rb(1, 0)}, \\quad \\sin{\\left (\\phi \\right )} \\sin{\\left (\\theta \\right )} \\cos{\\left (\\psi \\right )} - \\sin{\\left (\\psi \\right )} \\cos{\\left (\\phi \\right )} : C_{rb(1, 0)}, \\quad - \\sin{\\left (\\theta \\right )} : C_{rb(0, 2)}, \\quad \\sin{\\left (\\theta \\right )} : - C_{rb(0, 2)}\\right \\}$$"
      ],
      "text/plain": [
       "{-sin(φ)⋅cos(θ): -C_rb(1, 2), sin(φ)⋅cos(θ): C_rb(1, 2), -sin(ψ)⋅cos(θ): -C_rb\n",
       "(0, 1), sin(ψ)⋅cos(θ): C_rb(0, 1), -cos(φ)⋅cos(θ): -C_rb(2, 2), cos(φ)⋅cos(θ):\n",
       " C_rb(2, 2), -cos(ψ)⋅cos(θ): -C_rb(0, 0), cos(ψ)⋅cos(θ): C_rb(0, 0), -sin(φ)⋅s\n",
       "in(ψ) - sin(θ)⋅cos(φ)⋅cos(ψ): -C_rb(2, 0), sin(φ)⋅sin(ψ) + sin(θ)⋅cos(φ)⋅cos(ψ\n",
       "): C_rb(2, 0), -sin(φ)⋅cos(ψ) + sin(ψ)⋅sin(θ)⋅cos(φ): C_rb(2, 1), sin(φ)⋅cos(ψ\n",
       ") - sin(ψ)⋅sin(θ)⋅cos(φ): -C_rb(2, 1), -sin(φ)⋅sin(ψ)⋅sin(θ) - cos(φ)⋅cos(ψ): \n",
       "-C_rb(1, 1), sin(φ)⋅sin(ψ)⋅sin(θ) + cos(φ)⋅cos(ψ): C_rb(1, 1), -sin(φ)⋅sin(θ)⋅\n",
       "cos(ψ) + sin(ψ)⋅cos(φ): -C_rb(1, 0), sin(φ)⋅sin(θ)⋅cos(ψ) - sin(ψ)⋅cos(φ): C_r\n",
       "b(1, 0), -sin(θ): C_rb(0, 2), sin(θ): -C_rb(0, 2)}"
      ]
     },
     "execution_count": 3,
     "metadata": {},
     "output_type": "execute_result"
    }
   ],
   "source": [
    "sub_C_rb"
   ]
  },
  {
   "cell_type": "code",
   "execution_count": 4,
   "metadata": {
    "collapsed": false
   },
   "outputs": [
    {
     "data": {
      "text/latex": [
       "$$\\left[\\begin{array}{ccccccccccccccccc}rot_{x} & rot_{y} & rot_{z} & v_{N} & v_{E} & v_{D} & gyro_{bias N} & gyro_{bias E} & gyro_{bias D} & pos_{N} & pos_{E} & asl & terrain_{asl} & baro_{bias} & w_{N} & w_{E} & w_{D}\\end{array}\\right]$$"
      ],
      "text/plain": [
       "[rotₓ  rot_y  rot_z  v_N  v_E  v_D  gyro_bias_N  gyro_bias_E  gyro_bias_D  pos\n",
       "_N  pos_E  asl  terrainₐₛₗ  baro_bias  w_N  w_E  w_D]"
      ]
     },
     "execution_count": 4,
     "metadata": {},
     "output_type": "execute_result"
    }
   ],
   "source": [
    "xe = sympy.Matrix([rot_x, rot_y, rot_z, v_N, v_E, v_D, gyro_bias_N, gyro_bias_E, gyro_bias_D,\n",
    "                   pos_N, pos_E, asl, terrain_asl, baro_bias, w_N, w_E, w_D])\n",
    "xe.T"
   ]
  },
  {
   "cell_type": "markdown",
   "metadata": {},
   "source": [
    "## Airspeed"
   ]
  },
  {
   "cell_type": "code",
   "execution_count": 5,
   "metadata": {
    "collapsed": false
   },
   "outputs": [],
   "source": [
    "wind_n = w_N*frame_n.x + w_E*frame_n.y + w_D*frame_n.z\n",
    "vel_n = v_N*frame_n.x + v_E*frame_n.y + v_D*frame_n.z"
   ]
  },
  {
   "cell_type": "code",
   "execution_count": 6,
   "metadata": {
    "collapsed": false
   },
   "outputs": [
    {
     "data": {
      "text/latex": [
       "$$\\left[\\begin{matrix}\\left(- v_{D} + w_{D}\\right) \\left(- C_{rb(0, 0)} \\left(2 rot_{x} rot_{z} - 2 rot_{y}\\right) - C_{rb(0, 1)} \\left(2 rot_{x} + 2 rot_{y} rot_{z}\\right) - C_{rb(0, 2)} \\left(- rot_{x}^{2} - rot_{y}^{2} + rot_{z}^{2} + 1\\right)\\right) + \\left(- v_{E} + w_{E}\\right) \\left(- C_{rb(0, 0)} \\left(2 rot_{x} rot_{y} + 2 rot_{z}\\right) - C_{rb(0, 1)} \\left(- rot_{x}^{2} + rot_{y}^{2} - rot_{z}^{2} + 1\\right) - C_{rb(0, 2)} \\left(- 2 rot_{x} + 2 rot_{y} rot_{z}\\right)\\right) + \\left(- v_{N} + w_{N}\\right) \\left(- C_{rb(0, 0)} \\left(rot_{x}^{2} - rot_{y}^{2} - rot_{z}^{2} + 1\\right) - C_{rb(0, 1)} \\left(2 rot_{x} rot_{y} - 2 rot_{z}\\right) - C_{rb(0, 2)} \\left(2 rot_{x} rot_{z} + 2 rot_{y}\\right)\\right)\\end{matrix}\\right]$$"
      ],
      "text/plain": [
       "⎡             ⎛                                                               \n",
       "⎣(-v_D + w_D)⋅⎝-C_rb(0, 0)⋅(2⋅rotₓ⋅rot_z - 2⋅rot_y) - C_rb(0, 1)⋅(2⋅rotₓ + 2⋅r\n",
       "\n",
       "                         ⎛      2        2        2    ⎞⎞                ⎛    \n",
       "ot_y⋅rot_z) - C_rb(0, 2)⋅⎝- rotₓ  - rot_y  + rot_z  + 1⎠⎠ + (-v_E + w_E)⋅⎝-C_r\n",
       "\n",
       "                                              ⎛      2        2        2    ⎞ \n",
       "b(0, 0)⋅(2⋅rotₓ⋅rot_y + 2⋅rot_z) - C_rb(0, 1)⋅⎝- rotₓ  + rot_y  - rot_z  + 1⎠ \n",
       "\n",
       "                                      ⎞                ⎛             ⎛    2   \n",
       "- C_rb(0, 2)⋅(-2⋅rotₓ + 2⋅rot_y⋅rot_z)⎠ + (-v_N + w_N)⋅⎝- C_rb(0, 0)⋅⎝rotₓ  - \n",
       "\n",
       "     2        2    ⎞                                                          \n",
       "rot_y  - rot_z  + 1⎠ - C_rb(0, 1)⋅(2⋅rotₓ⋅rot_y - 2⋅rot_z) - C_rb(0, 2)⋅(2⋅rot\n",
       "\n",
       "                  ⎞⎤\n",
       "ₓ⋅rot_z + 2⋅rot_y)⎠⎦"
      ]
     },
     "execution_count": 6,
     "metadata": {},
     "output_type": "execute_result"
    }
   ],
   "source": [
    "rel_wind = wind_n - vel_n\n",
    "y_airspeed = sympy.Matrix([rel_wind.dot(-frame_b.x)]).subs(sub_C_rb)\n",
    "y_airspeed"
   ]
  },
  {
   "cell_type": "code",
   "execution_count": 13,
   "metadata": {
    "collapsed": false
   },
   "outputs": [
    {
     "data": {
      "text/latex": [
       "$$\\left[\\begin{matrix}- 2 C_{rb(0, 1)} \\left(- v_{D} + w_{D}\\right) + 2 C_{rb(0, 2)} \\left(- v_{E} + w_{E}\\right)\\\\2 C_{rb(0, 0)} \\left(- v_{D} + w_{D}\\right) - 2 C_{rb(0, 2)} \\left(- v_{N} + w_{N}\\right)\\\\- 2 C_{rb(0, 0)} \\left(- v_{E} + w_{E}\\right) + 2 C_{rb(0, 1)} \\left(- v_{N} + w_{N}\\right)\\\\C_{rb(0, 0)}\\\\C_{rb(0, 1)}\\\\C_{rb(0, 2)}\\\\0\\\\0\\\\0\\\\0\\\\0\\\\0\\\\0\\\\0\\\\- C_{rb(0, 0)}\\\\- C_{rb(0, 1)}\\\\- C_{rb(0, 2)}\\end{matrix}\\right]$$"
      ],
      "text/plain": [
       "⎡-2⋅C_rb(0, 1)⋅(-v_D + w_D) + 2⋅C_rb(0, 2)⋅(-v_E + w_E)⎤\n",
       "⎢                                                      ⎥\n",
       "⎢2⋅C_rb(0, 0)⋅(-v_D + w_D) - 2⋅C_rb(0, 2)⋅(-v_N + w_N) ⎥\n",
       "⎢                                                      ⎥\n",
       "⎢-2⋅C_rb(0, 0)⋅(-v_E + w_E) + 2⋅C_rb(0, 1)⋅(-v_N + w_N)⎥\n",
       "⎢                                                      ⎥\n",
       "⎢                      C_rb(0, 0)                      ⎥\n",
       "⎢                                                      ⎥\n",
       "⎢                      C_rb(0, 1)                      ⎥\n",
       "⎢                                                      ⎥\n",
       "⎢                      C_rb(0, 2)                      ⎥\n",
       "⎢                                                      ⎥\n",
       "⎢                          0                           ⎥\n",
       "⎢                                                      ⎥\n",
       "⎢                          0                           ⎥\n",
       "⎢                                                      ⎥\n",
       "⎢                          0                           ⎥\n",
       "⎢                                                      ⎥\n",
       "⎢                          0                           ⎥\n",
       "⎢                                                      ⎥\n",
       "⎢                          0                           ⎥\n",
       "⎢                                                      ⎥\n",
       "⎢                          0                           ⎥\n",
       "⎢                                                      ⎥\n",
       "⎢                          0                           ⎥\n",
       "⎢                                                      ⎥\n",
       "⎢                          0                           ⎥\n",
       "⎢                                                      ⎥\n",
       "⎢                     -C_rb(0, 0)                      ⎥\n",
       "⎢                                                      ⎥\n",
       "⎢                     -C_rb(0, 1)                      ⎥\n",
       "⎢                                                      ⎥\n",
       "⎣                     -C_rb(0, 2)                      ⎦"
      ]
     },
     "execution_count": 13,
     "metadata": {},
     "output_type": "execute_result"
    }
   ],
   "source": [
    "H_airspeed = y_airspeed.jacobian(xe).subs(sub_lin)\n",
    "H_airspeed.T"
   ]
  },
  {
   "cell_type": "markdown",
   "metadata": {
    "collapsed": true
   },
   "source": [
    "## Distance"
   ]
  },
  {
   "cell_type": "code",
   "execution_count": 8,
   "metadata": {
    "collapsed": false
   },
   "outputs": [
    {
     "data": {
      "image/png": "[encoded data removed]",
      "text/latex": [
       "$$\\frac{agl}{2 C_{rb(2, 0)} rot_{x} rot_{z} - 2 C_{rb(2, 0)} rot_{y} + 2 C_{rb(2, 1)} rot_{x} + 2 C_{rb(2, 1)} rot_{y} rot_{z} - C_{rb(2, 2)} rot_{x}^{2} - C_{rb(2, 2)} rot_{y}^{2} + C_{rb(2, 2)} rot_{z}^{2} + C_{rb(2, 2)}}$$"
      ],
      "text/plain": [
       "                                                                              \n",
       "──────────────────────────────────────────────────────────────────────────────\n",
       "                                                                              \n",
       "2⋅C_rb(2, 0)⋅rotₓ⋅rot_z - 2⋅C_rb(2, 0)⋅rot_y + 2⋅C_rb(2, 1)⋅rotₓ + 2⋅C_rb(2, 1\n",
       "\n",
       "  agl                                                                         \n",
       "──────────────────────────────────────────────────────────────────────────────\n",
       "                               2                   2                   2      \n",
       ")⋅rot_y⋅rot_z - C_rb(2, 2)⋅rotₓ  - C_rb(2, 2)⋅rot_y  + C_rb(2, 2)⋅rot_z  + C_r\n",
       "\n",
       "       \n",
       "───────\n",
       "       \n",
       "b(2, 2)"
      ]
     },
     "execution_count": 8,
     "metadata": {},
     "output_type": "execute_result"
    }
   ],
   "source": [
    "d_eq = sympy.solve((d*frame_b.z).dot(frame_n.z).subs(sub_C_rb) - (asl - terrain_asl), d)[0]\n",
    "d_eq.subs(sub_agl)"
   ]
  },
  {
   "cell_type": "code",
   "execution_count": 9,
   "metadata": {
    "collapsed": false
   },
   "outputs": [
    {
     "data": {
      "image/png": "[encoded data removed]",
      "text/latex": [
       "$$\\frac{asl - terrain_{asl}}{2 C_{rb(2, 0)} rot_{x} rot_{z} - 2 C_{rb(2, 0)} rot_{y} + 2 C_{rb(2, 1)} rot_{x} + 2 C_{rb(2, 1)} rot_{y} rot_{z} - C_{rb(2, 2)} rot_{x}^{2} - C_{rb(2, 2)} rot_{y}^{2} + C_{rb(2, 2)} rot_{z}^{2} + C_{rb(2, 2)}}$$"
      ],
      "text/plain": [
       "                                                                          asl \n",
       "──────────────────────────────────────────────────────────────────────────────\n",
       "                                                                              \n",
       "2⋅C_rb(2, 0)⋅rotₓ⋅rot_z - 2⋅C_rb(2, 0)⋅rot_y + 2⋅C_rb(2, 1)⋅rotₓ + 2⋅C_rb(2, 1\n",
       "\n",
       "- terrainₐₛₗ                                                                  \n",
       "──────────────────────────────────────────────────────────────────────────────\n",
       "                               2                   2                   2      \n",
       ")⋅rot_y⋅rot_z - C_rb(2, 2)⋅rotₓ  - C_rb(2, 2)⋅rot_y  + C_rb(2, 2)⋅rot_z  + C_r\n",
       "\n",
       "       \n",
       "───────\n",
       "       \n",
       "b(2, 2)"
      ]
     },
     "execution_count": 9,
     "metadata": {},
     "output_type": "execute_result"
    }
   ],
   "source": [
    "y_dist = sympy.Matrix([d_eq])\n",
    "y_dist[0]"
   ]
  },
  {
   "cell_type": "code",
   "execution_count": 14,
   "metadata": {
    "collapsed": false
   },
   "outputs": [
    {
     "data": {
      "text/latex": [
       "$$\\left[\\begin{matrix}- \\frac{2 C_{rb(2, 1)} agl}{C_{rb(2, 2)}^{2}}\\\\\\frac{2 C_{rb(2, 0)} agl}{C_{rb(2, 2)}^{2}}\\\\0\\\\0\\\\0\\\\0\\\\0\\\\0\\\\0\\\\0\\\\0\\\\\\frac{1}{C_{rb(2, 2)}}\\\\- \\frac{1}{C_{rb(2, 2)}}\\\\0\\\\0\\\\0\\\\0\\end{matrix}\\right]$$"
      ],
      "text/plain": [
       "⎡-2⋅C_rb(2, 1)⋅agl ⎤\n",
       "⎢──────────────────⎥\n",
       "⎢             2    ⎥\n",
       "⎢   C_rb(2, 2)     ⎥\n",
       "⎢                  ⎥\n",
       "⎢ 2⋅C_rb(2, 0)⋅agl ⎥\n",
       "⎢ ──────────────── ⎥\n",
       "⎢             2    ⎥\n",
       "⎢   C_rb(2, 2)     ⎥\n",
       "⎢                  ⎥\n",
       "⎢        0         ⎥\n",
       "⎢                  ⎥\n",
       "⎢        0         ⎥\n",
       "⎢                  ⎥\n",
       "⎢        0         ⎥\n",
       "⎢                  ⎥\n",
       "⎢        0         ⎥\n",
       "⎢                  ⎥\n",
       "⎢        0         ⎥\n",
       "⎢                  ⎥\n",
       "⎢        0         ⎥\n",
       "⎢                  ⎥\n",
       "⎢        0         ⎥\n",
       "⎢                  ⎥\n",
       "⎢        0         ⎥\n",
       "⎢                  ⎥\n",
       "⎢        0         ⎥\n",
       "⎢                  ⎥\n",
       "⎢        1         ⎥\n",
       "⎢    ──────────    ⎥\n",
       "⎢    C_rb(2, 2)    ⎥\n",
       "⎢                  ⎥\n",
       "⎢       -1         ⎥\n",
       "⎢    ──────────    ⎥\n",
       "⎢    C_rb(2, 2)    ⎥\n",
       "⎢                  ⎥\n",
       "⎢        0         ⎥\n",
       "⎢                  ⎥\n",
       "⎢        0         ⎥\n",
       "⎢                  ⎥\n",
       "⎢        0         ⎥\n",
       "⎢                  ⎥\n",
       "⎣        0         ⎦"
      ]
     },
     "execution_count": 14,
     "metadata": {},
     "output_type": "execute_result"
    }
   ],
   "source": [
    "H_distance = y_dist.jacobian(xe).subs(sub_lin).subs(sub_agl)\n",
    "H_distance.T"
   ]
  },
  {
   "cell_type": "markdown",
   "metadata": {},
   "source": [
    "## Optical Flow"
   ]
  },
  {
   "cell_type": "code",
   "execution_count": 15,
   "metadata": {
    "collapsed": false
   },
   "outputs": [],
   "source": [
    "v_ne_n = v_N*frame_n.x + v_E*frame_n.y\n",
    "y_flow = sympy.Matrix([\n",
    "    d_eq*v_ne_n.dot(frame_b.x).subs(sub_C_rb),\n",
    "    d_eq*v_ne_n.dot(frame_b.y).subs(sub_C_rb)])"
   ]
  },
  {
   "cell_type": "code",
   "execution_count": 16,
   "metadata": {
    "collapsed": false
   },
   "outputs": [
    {
     "data": {
      "text/latex": [
       "$$\\left[\\begin{matrix}- \\frac{2 C_{rb(0, 2)} agl}{C_{rb(2, 2)}} v_{E} - \\frac{2 C_{rb(2, 1)} agl}{C_{rb(2, 2)}^{2}} \\left(C_{rb(0, 0)} v_{N} + C_{rb(0, 1)} v_{E}\\right) & - \\frac{2 C_{rb(1, 2)} agl}{C_{rb(2, 2)}} v_{E} - \\frac{2 C_{rb(2, 1)} agl}{C_{rb(2, 2)}^{2}} \\left(C_{rb(1, 0)} v_{N} + C_{rb(1, 1)} v_{E}\\right)\\\\\\frac{2 C_{rb(0, 2)} agl}{C_{rb(2, 2)}} v_{N} + \\frac{2 C_{rb(2, 0)} agl}{C_{rb(2, 2)}^{2}} \\left(C_{rb(0, 0)} v_{N} + C_{rb(0, 1)} v_{E}\\right) & \\frac{2 C_{rb(1, 2)} agl}{C_{rb(2, 2)}} v_{N} + \\frac{2 C_{rb(2, 0)} agl}{C_{rb(2, 2)}^{2}} \\left(C_{rb(1, 0)} v_{N} + C_{rb(1, 1)} v_{E}\\right)\\\\\\frac{agl}{C_{rb(2, 2)}} \\left(2 C_{rb(0, 0)} v_{E} - 2 C_{rb(0, 1)} v_{N}\\right) & \\frac{agl}{C_{rb(2, 2)}} \\left(2 C_{rb(1, 0)} v_{E} - 2 C_{rb(1, 1)} v_{N}\\right)\\\\\\frac{C_{rb(0, 0)} agl}{C_{rb(2, 2)}} & \\frac{C_{rb(1, 0)} agl}{C_{rb(2, 2)}}\\\\\\frac{C_{rb(0, 1)} agl}{C_{rb(2, 2)}} & \\frac{C_{rb(1, 1)} agl}{C_{rb(2, 2)}}\\\\0 & 0\\\\0 & 0\\\\0 & 0\\\\0 & 0\\\\0 & 0\\\\0 & 0\\\\\\frac{1}{C_{rb(2, 2)}} \\left(C_{rb(0, 0)} v_{N} + C_{rb(0, 1)} v_{E}\\right) & \\frac{1}{C_{rb(2, 2)}} \\left(C_{rb(1, 0)} v_{N} + C_{rb(1, 1)} v_{E}\\right)\\\\- \\frac{1}{C_{rb(2, 2)}} \\left(C_{rb(0, 0)} v_{N} + C_{rb(0, 1)} v_{E}\\right) & - \\frac{1}{C_{rb(2, 2)}} \\left(C_{rb(1, 0)} v_{N} + C_{rb(1, 1)} v_{E}\\right)\\\\0 & 0\\\\0 & 0\\\\0 & 0\\\\0 & 0\\end{matrix}\\right]$$"
      ],
      "text/plain": [
       "⎡  2⋅C_rb(0, 2)⋅agl⋅v_E   2⋅C_rb(2, 1)⋅agl⋅(C_rb(0, 0)⋅v_N + C_rb(0, 1)⋅v_E)  \n",
       "⎢- ──────────────────── - ──────────────────────────────────────────────────  \n",
       "⎢       C_rb(2, 2)                                     2                      \n",
       "⎢                                            C_rb(2, 2)                       \n",
       "⎢                                                                             \n",
       "⎢ 2⋅C_rb(0, 2)⋅agl⋅v_N   2⋅C_rb(2, 0)⋅agl⋅(C_rb(0, 0)⋅v_N + C_rb(0, 1)⋅v_E)   \n",
       "⎢ ──────────────────── + ──────────────────────────────────────────────────   \n",
       "⎢      C_rb(2, 2)                                     2                       \n",
       "⎢                                           C_rb(2, 2)                        \n",
       "⎢                                                                             \n",
       "⎢                 agl⋅(2⋅C_rb(0, 0)⋅v_E - 2⋅C_rb(0, 1)⋅v_N)                   \n",
       "⎢                 ─────────────────────────────────────────                   \n",
       "⎢                                 C_rb(2, 2)                                  \n",
       "⎢                                                                             \n",
       "⎢                              C_rb(0, 0)⋅agl                                 \n",
       "⎢                              ──────────────                                 \n",
       "⎢                                C_rb(2, 2)                                   \n",
       "⎢                                                                             \n",
       "⎢                              C_rb(0, 1)⋅agl                                 \n",
       "⎢                              ──────────────                                 \n",
       "⎢                                C_rb(2, 2)                                   \n",
       "⎢                                                                             \n",
       "⎢                                     0                                       \n",
       "⎢                                                                             \n",
       "⎢                                     0                                       \n",
       "⎢                                                                             \n",
       "⎢                                     0                                       \n",
       "⎢                                                                             \n",
       "⎢                                     0                                       \n",
       "⎢                                                                             \n",
       "⎢                                     0                                       \n",
       "⎢                                                                             \n",
       "⎢                                     0                                       \n",
       "⎢                                                                             \n",
       "⎢                      C_rb(0, 0)⋅v_N + C_rb(0, 1)⋅v_E                        \n",
       "⎢                      ───────────────────────────────                        \n",
       "⎢                                 C_rb(2, 2)                                  \n",
       "⎢                                                                             \n",
       "⎢                    -(C_rb(0, 0)⋅v_N + C_rb(0, 1)⋅v_E)                       \n",
       "⎢                    ───────────────────────────────────                      \n",
       "⎢                                 C_rb(2, 2)                                  \n",
       "⎢                                                                             \n",
       "⎢                                     0                                       \n",
       "⎢                                                                             \n",
       "⎢                                     0                                       \n",
       "⎢                                                                             \n",
       "⎢                                     0                                       \n",
       "⎢                                                                             \n",
       "⎣                                     0                                       \n",
       "\n",
       "  2⋅C_rb(1, 2)⋅agl⋅v_E   2⋅C_rb(2, 1)⋅agl⋅(C_rb(1, 0)⋅v_N + C_rb(1, 1)⋅v_E)⎤\n",
       "- ──────────────────── - ──────────────────────────────────────────────────⎥\n",
       "       C_rb(2, 2)                                     2                    ⎥\n",
       "                                            C_rb(2, 2)                     ⎥\n",
       "                                                                           ⎥\n",
       " 2⋅C_rb(1, 2)⋅agl⋅v_N   2⋅C_rb(2, 0)⋅agl⋅(C_rb(1, 0)⋅v_N + C_rb(1, 1)⋅v_E) ⎥\n",
       " ──────────────────── + ────────────────────────────────────────────────── ⎥\n",
       "      C_rb(2, 2)                                     2                     ⎥\n",
       "                                           C_rb(2, 2)                      ⎥\n",
       "                                                                           ⎥\n",
       "                 agl⋅(2⋅C_rb(1, 0)⋅v_E - 2⋅C_rb(1, 1)⋅v_N)                 ⎥\n",
       "                 ─────────────────────────────────────────                 ⎥\n",
       "                                 C_rb(2, 2)                                ⎥\n",
       "                                                                           ⎥\n",
       "                              C_rb(1, 0)⋅agl                               ⎥\n",
       "                              ──────────────                               ⎥\n",
       "                                C_rb(2, 2)                                 ⎥\n",
       "                                                                           ⎥\n",
       "                              C_rb(1, 1)⋅agl                               ⎥\n",
       "                              ──────────────                               ⎥\n",
       "                                C_rb(2, 2)                                 ⎥\n",
       "                                                                           ⎥\n",
       "                                     0                                     ⎥\n",
       "                                                                           ⎥\n",
       "                                     0                                     ⎥\n",
       "                                                                           ⎥\n",
       "                                     0                                     ⎥\n",
       "                                                                           ⎥\n",
       "                                     0                                     ⎥\n",
       "                                                                           ⎥\n",
       "                                     0                                     ⎥\n",
       "                                                                           ⎥\n",
       "                                     0                                     ⎥\n",
       "                                                                           ⎥\n",
       "                      C_rb(1, 0)⋅v_N + C_rb(1, 1)⋅v_E                      ⎥\n",
       "                      ───────────────────────────────                      ⎥\n",
       "                                 C_rb(2, 2)                                ⎥\n",
       "                                                                           ⎥\n",
       "                    -(C_rb(1, 0)⋅v_N + C_rb(1, 1)⋅v_E)                     ⎥\n",
       "                    ───────────────────────────────────                    ⎥\n",
       "                                 C_rb(2, 2)                                ⎥\n",
       "                                                                           ⎥\n",
       "                                     0                                     ⎥\n",
       "                                                                           ⎥\n",
       "                                     0                                     ⎥\n",
       "                                                                           ⎥\n",
       "                                     0                                     ⎥\n",
       "                                                                           ⎥\n",
       "                                     0                                     ⎦"
      ]
     },
     "execution_count": 16,
     "metadata": {},
     "output_type": "execute_result"
    }
   ],
   "source": [
    "H_flow = y_flow.jacobian(xe).subs(sub_lin).subs(sub_agl)\n",
    "H_flow.T"
   ]
  }
 ],
 "metadata": {
  "anaconda-cloud": {},
  "kernelspec": {
   "display_name": "Python [conda root]",
   "language": "python",
   "name": "conda-root-py"
  },
  "language_info": {
   "codemirror_mode": {
    "name": "ipython",
    "version": 3
   },
   "file_extension": ".py",
   "mimetype": "text/x-python",
   "name": "python",
   "nbconvert_exporter": "python",
   "pygments_lexer": "ipython3",
   "version": "3.5.2"
  }
 },
 "nbformat": 4,
 "nbformat_minor": 1
}
